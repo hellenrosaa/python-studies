{
  "nbformat": 4,
  "nbformat_minor": 0,
  "metadata": {
    "colab": {
      "provenance": []
    },
    "kernelspec": {
      "name": "python3",
      "display_name": "Python 3"
    },
    "language_info": {
      "name": "python"
    }
  },
  "cells": [
    {
      "cell_type": "code",
      "execution_count": null,
      "metadata": {
        "colab": {
          "base_uri": "https://localhost:8080/"
        },
        "id": "ClrPw4jutZ7P",
        "outputId": "6e1dd1c5-e2b0-4ad8-fc97-ecf028a0688f"
      },
      "outputs": [
        {
          "output_type": "stream",
          "name": "stdout",
          "text": [
            "Looking in indexes: https://pypi.org/simple, https://us-python.pkg.dev/colab-wheels/public/simple/\n",
            "Collecting pulp\n",
            "  Downloading PuLP-2.7.0-py3-none-any.whl (14.3 MB)\n",
            "\u001b[2K     \u001b[90m━━━━━━━━━━━━━━━━━━━━━━━━━━━━━━━━━━━━━━━━\u001b[0m \u001b[32m14.3/14.3 MB\u001b[0m \u001b[31m42.0 MB/s\u001b[0m eta \u001b[36m0:00:00\u001b[0m\n",
            "\u001b[?25hInstalling collected packages: pulp\n",
            "Successfully installed pulp-2.7.0\n"
          ]
        }
      ],
      "source": [
        " !pip install pulp"
      ]
    },
    {
      "cell_type": "code",
      "source": [
        "import pulp \n",
        "\n",
        "# Definiçã do problema\n",
        "prob = pulp.LpProblem('Producao', pulp.LpMaximize)\n",
        "\n",
        "# Variáveis de decisão\n",
        "\n",
        "xa = pulp.LpVariable('Produto A', lowBound=0, cat='Continuous')\n",
        "xb = pulp.LpVariable('Produto B', lowBound=0, cat='Continuous')\n",
        "\n",
        "#xa = pulp.LpVariable('Produto A', lowBound=0, cat='Integer')\n",
        "#xb = pulp.LpVariable('Produto B', lowBound=0, cat='Integer')\n",
        "\n",
        "# Definir função Objetivo\n",
        "prob += 50*xa + 40*xb\n",
        "\n",
        "# Restrições do problema\n",
        "prob += 4*xa + 2*xb <= 20\n",
        "prob += 2*xa + 3*xb <= 15\n",
        "prob += 1*xa + 1*xb <= 7\n",
        "\n",
        "prob.solve()\n",
        "\n",
        "print(f'Lucro:  {pulp.value(prob.objective)}')\n",
        "print(f'xa:  {xa.value()} xb: {xb.value()}')"
      ],
      "metadata": {
        "colab": {
          "base_uri": "https://localhost:8080/"
        },
        "id": "LICoCSFEtytl",
        "outputId": "c1affb5b-1667-4da5-ef06-964315fa4acd"
      },
      "execution_count": null,
      "outputs": [
        {
          "output_type": "stream",
          "name": "stdout",
          "text": [
            "Lucro:  287.5\n",
            "xa:  3.75 xb: 2.5\n"
          ]
        }
      ]
    },
    {
      "cell_type": "markdown",
      "source": [
        "# Solução"
      ],
      "metadata": {
        "id": "jsPuBtv49y0G"
      }
    },
    {
      "cell_type": "code",
      "source": [
        "import pulp \n",
        "\n",
        "# Definiçã do problema\n",
        "prob = pulp.LpProblem('Terceirizacao', pulp.LpMinimize)\n",
        "\n",
        "# Variáveis de decisão\n",
        "xap = pulp.LpVariable('Produto A - Produzido', lowBound=0, cat='Continuous')\n",
        "xat = pulp.LpVariable('Produto A - Terceirizado', lowBound=0, cat='Continuous')\n",
        "xbp = pulp.LpVariable('Produto B - Produzido', lowBound=0, cat='Continuous')\n",
        "xbt = pulp.LpVariable('Produto B - Terceirizado', lowBound=0, cat='Continuous')\n",
        "\n",
        "# Definir função Objetivo\n",
        "prob += 55*xap + 67*xat + 85*xbp + 95*xbt\n",
        "\n",
        "# Restrições do problema (contrato)\n",
        "prob += xap + xat == 30000\n",
        "prob += xbp + xbt == 15000\n",
        "\n",
        "# Restrições do problema (capacidade)\n",
        "prob += 0.2*xap + 0.3*xbp <= 10000 # produção\n",
        "prob += 0.4*xap + 0.5*xbp <= 15000 # montagem\n",
        "prob += 0.1*xap + 0.1*xbp <= 5000 # teste\n",
        "\n",
        "prob.solve()\n",
        "\n",
        "print(f'Custp:  {pulp.value(prob.objective)}')\n",
        "print(f'xap:  {xap.value()} xat: {xat.value()}')\n",
        "print(f'xbp:  {xbp.value()} xbt: {xbt.value()}')"
      ],
      "metadata": {
        "colab": {
          "base_uri": "https://localhost:8080/"
        },
        "id": "VdMxlsHs82xz",
        "outputId": "b69bb9dc-0b79-4fa7-d581-9cb27aa1de90"
      },
      "execution_count": null,
      "outputs": [
        {
          "output_type": "stream",
          "name": "stdout",
          "text": [
            "Custp:  3015000.0\n",
            "xap:  30000.0 xat: 0.0\n",
            "xbp:  6000.0 xbt: 9000.0\n"
          ]
        }
      ]
    },
    {
      "cell_type": "code",
      "source": [],
      "metadata": {
        "id": "3ln3pSuY9IFW"
      },
      "execution_count": null,
      "outputs": []
    },
    {
      "cell_type": "code",
      "source": [],
      "metadata": {
        "id": "gc5OI4iX9NMD"
      },
      "execution_count": null,
      "outputs": []
    },
    {
      "cell_type": "code",
      "source": [],
      "metadata": {
        "id": "_S_x6dSC83UB"
      },
      "execution_count": null,
      "outputs": []
    },
    {
      "cell_type": "code",
      "source": [],
      "metadata": {
        "id": "wt4kEDbA83XK"
      },
      "execution_count": null,
      "outputs": []
    },
    {
      "cell_type": "code",
      "source": [],
      "metadata": {
        "id": "eKG67dsm83ZY"
      },
      "execution_count": null,
      "outputs": []
    },
    {
      "cell_type": "code",
      "source": [],
      "metadata": {
        "id": "90wSzSY683cQ"
      },
      "execution_count": null,
      "outputs": []
    },
    {
      "cell_type": "code",
      "source": [],
      "metadata": {
        "id": "mnaOkznr8203"
      },
      "execution_count": null,
      "outputs": []
    },
    {
      "cell_type": "code",
      "source": [],
      "metadata": {
        "id": "qfba4P7_6-yO"
      },
      "execution_count": null,
      "outputs": []
    },
    {
      "cell_type": "code",
      "source": [],
      "metadata": {
        "id": "JfMXvnAH6-8O"
      },
      "execution_count": null,
      "outputs": []
    }
  ]
}