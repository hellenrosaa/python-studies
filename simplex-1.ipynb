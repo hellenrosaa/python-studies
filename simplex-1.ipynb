{
  "nbformat": 4,
  "nbformat_minor": 0,
  "metadata": {
    "colab": {
      "provenance": []
    },
    "kernelspec": {
      "name": "python3",
      "display_name": "Python 3"
    },
    "language_info": {
      "name": "python"
    }
  },
  "cells": [
    {
      "cell_type": "markdown",
      "source": [
        "## Problema do Pecuarista"
      ],
      "metadata": {
        "id": "0GGzqEbxfhG3"
      }
    },
    {
      "cell_type": "code",
      "execution_count": null,
      "metadata": {
        "id": "OIxuZBHpdJgj",
        "colab": {
          "base_uri": "https://localhost:8080/"
        },
        "outputId": "aaf48cad-4e5f-46b3-e34f-1c50b7705258"
      },
      "outputs": [
        {
          "output_type": "stream",
          "name": "stdout",
          "text": [
            "Looking in indexes: https://pypi.org/simple, https://us-python.pkg.dev/colab-wheels/public/simple/\n",
            "Collecting pulp\n",
            "  Downloading PuLP-2.7.0-py3-none-any.whl (14.3 MB)\n",
            "\u001b[2K     \u001b[90m━━━━━━━━━━━━━━━━━━━━━━━━━━━━━━━━━━━━━━━━\u001b[0m \u001b[32m14.3/14.3 MB\u001b[0m \u001b[31m43.7 MB/s\u001b[0m eta \u001b[36m0:00:00\u001b[0m\n",
            "\u001b[?25hInstalling collected packages: pulp\n",
            "Successfully installed pulp-2.7.0\n",
            "Pecuarista:\n",
            "MINIMIZE\n",
            "15*alfafa + 21*milho + 18*ração + 0\n",
            "SUBJECT TO\n",
            "Produção_de_Carboidratos: 40 alfafa + 90 milho + 20 ração >= 200\n",
            "\n",
            "Produção_de_Proteínas: 60 alfafa + 30 milho + 80 ração >= 180\n",
            "\n",
            "Produção_de_Vitaminas: 60 alfafa + 10 milho + 20 ração >= 150\n",
            "\n",
            "VARIABLES\n",
            "alfafa Continuous\n",
            "milho Continuous\n",
            "ração Continuous\n",
            "\n",
            "Status: Optimal\n",
            "Custo Mínimo Diário de Produção = R$ 60.4285701\n",
            "x1: 1.1428571\n",
            "x2: 0.0 \n",
            "x3: 2.4285714\n"
          ]
        }
      ],
      "source": [
        "!pip install pulp\n",
        "import pulp\n",
        "\n",
        "# Criar o problema de minimização\n",
        "prob = pulp.LpProblem(\"Pecuarista\", pulp.LpMinimize)\n",
        "\n",
        "# Criar as variáveis de decisão\n",
        "x1 = pulp.LpVariable(\"milho\", lowBound=0, cat='Continuous')\n",
        "x2 = pulp.LpVariable(\"ração\", lowBound=0, cat='Continuous')\n",
        "x3 = pulp.LpVariable(\"alfafa\", lowBound=0, cat='Continuous')\n",
        "\n",
        "# Definir a função objetivo\n",
        "prob += 21*x1 + 18*x2 + 15*x3, \"Custo Total de Produção\"\n",
        "\n",
        "# Restrição de produção de carboidratos\n",
        "prob += 90*x1 + 20*x2 + 40*x3 >= 200, \"Produção de Carboidratos\"\n",
        "\n",
        "# Restrição de produção de proteinas\n",
        "prob += 30*x1 + 80*x2 + 60*x3 >= 180, \"Produção de Proteínas\"\n",
        "\n",
        "# Restrição de produção de vitaminas\n",
        "prob += 10*x1 + 20*x2 + 60*x3 >= 150, \"Produção de Vitaminas\"\n",
        "\n",
        "# Resolver o problema\n",
        "prob.solve()\n",
        "\n",
        "# Imprimir a solução\n",
        "print(prob)\n",
        "print(\"Status:\", pulp.LpStatus[prob.status])\n",
        "print(\"Custo Mínimo Diário de Produção = R$\", pulp.value(prob.objective))\n",
        "print(f'x1: {x1.value()}\\nx2: {x2.value()} \\nx3: {x3.value()}')"
      ]
    },
    {
      "cell_type": "markdown",
      "source": [
        "## Tabela Simplex"
      ],
      "metadata": {
        "id": "c68lyNUysjsa"
      }
    },
    {
      "cell_type": "code",
      "source": [
        "import numpy as np\n",
        "np.set_printoptions(precision=3, suppress=True)\n",
        "import warnings\n",
        "warnings.filterwarnings('ignore')\n",
        "import pandas as pd\n",
        "\n",
        "\n",
        "def Simplex(T, rotulos=[], base=[]):\n",
        "    '''\n",
        "    Função para calcular o Tableau Simplex apresentando a sua evolução ao longo das iterações.\n",
        "    \n",
        "    Argumentos de entrada:\n",
        "        T: numpy array representando o Tableau inicial\n",
        "    \n",
        "    Argumentos de Saída\n",
        "        T: a tabela na última iteração do algoritmo\n",
        "        \n",
        "    Programador: Prof. Dr. Rooney Coelho\n",
        "    '''\n",
        "    \n",
        "    print('Tableu Simplex (inicial):')\n",
        "    if rotulos == [] and base == []:\n",
        "        print(T)\n",
        "    else:\n",
        "        print( pd.DataFrame(T, columns=rotulos, index=base ) )\n",
        "    \n",
        "    menor = -1\n",
        "    it = 0\n",
        "    while menor < 0:\n",
        "        # Inicialização dos parâmetros (sobreescrever)\n",
        "        pivo_linha = -1\n",
        "        pivo_coluna = -1\n",
        "        pivo = 0\n",
        "        menor = T[0,:-1].min()\n",
        "\n",
        "        if menor >=0:\n",
        "            print('\\nNenhum dos coeficientes da linha z associados com as variáveis não básicas é negativo assim essa tabela é ótima!')\n",
        "            break\n",
        "        else:\n",
        "            it += 1\n",
        "            print(f'\\nIteração: {it}')\n",
        "            # pega o menor elemento da primeira linha (função objetivo)\n",
        "            pivo_coluna = T[0,:-1].argmin()\n",
        "\n",
        "            aux = np.zeros(len(T)-1)\n",
        "            i = 0\n",
        "            for a,b in zip(T[1:,-1],T[1:,pivo_coluna]):\n",
        "                aux[i] = a/b\n",
        "                i+=1\n",
        "\n",
        "            val = aux[aux>0].min()\n",
        "            pivo_linha = np.argwhere(aux==val).item() + 1 # Soma um para a mesma referencia incluindo objetivo\n",
        "            pivo = T[pivo_linha, pivo_coluna]\n",
        "            print(f'Linha do pivô: {pivo_linha}, Coluna do pivô: {pivo_coluna}, Elemento pivô: {pivo}\\n')\n",
        "\n",
        "            # Nova linha do pivô = linha do pivô atual / elemento do pivô\n",
        "            T[pivo_linha] = T[pivo_linha]/pivo \n",
        "\n",
        "            # Todas as outras linhas, incluindo z\n",
        "            # Nova linha=(Linha atual)−(seu coeficiente de coluna do pivô)×(Nova linha do pivô)\n",
        "\n",
        "            nova_linha_pivo = T[pivo_linha]\n",
        "\n",
        "            for i in range(len(T)):\n",
        "                if i != pivo_linha:\n",
        "                    T[i] -= T[i,pivo_coluna]*nova_linha_pivo\n",
        "\n",
        "            print('Tableu Simplex:')\n",
        "            if rotulos == [] and base == []:\n",
        "                print(T)\n",
        "            else:\n",
        "                base[pivo_linha] = rotulos[pivo_coluna]\n",
        "                print( pd.DataFrame(T, columns=rotulos, index=base ) )\n",
        "    return T"
      ],
      "metadata": {
        "id": "h4BtGAG6de8l"
      },
      "execution_count": null,
      "outputs": []
    },
    {
      "cell_type": "code",
      "source": [
        "T = np.array([\n",
        "    [1,-5,-4,0,0,0,0,0],\n",
        "    [0,6,4,1,0,0,0,24],\n",
        "    [0,1,2,0,1,0,0,6],\n",
        "    [0,-1,1,0,0,1,0,1],\n",
        "    [0,0,1,0,0,0,1,2],\n",
        "], dtype=float)\n",
        "\n",
        "rotulos = ['z', 'x1', 'x2', 's1', 's2', 's3', 's4', 'RHD' ]\n",
        "base = ['z', 's1', 's2', 's3', 's4']\n",
        "\n",
        "Simplex(T, rotulos, base);"
      ],
      "metadata": {
        "id": "0sdcloT-s2T2",
        "outputId": "f88fad94-792b-4a47-b53b-b72efb97542e",
        "colab": {
          "base_uri": "https://localhost:8080/"
        }
      },
      "execution_count": null,
      "outputs": [
        {
          "output_type": "stream",
          "name": "stdout",
          "text": [
            "Tableu Simplex (inicial):\n",
            "      z   x1   x2   s1   s2   s3   s4   RHD\n",
            "z   1.0 -5.0 -4.0  0.0  0.0  0.0  0.0   0.0\n",
            "s1  0.0  6.0  4.0  1.0  0.0  0.0  0.0  24.0\n",
            "s2  0.0  1.0  2.0  0.0  1.0  0.0  0.0   6.0\n",
            "s3  0.0 -1.0  1.0  0.0  0.0  1.0  0.0   1.0\n",
            "s4  0.0  0.0  1.0  0.0  0.0  0.0  1.0   2.0\n",
            "\n",
            "Iteração: 1\n",
            "Linha do pivô: 1, Coluna do pivô: 1, Elemento pivô: 6.0\n",
            "\n",
            "Tableu Simplex:\n",
            "      z   x1        x2        s1   s2   s3   s4   RHD\n",
            "z   1.0  0.0 -0.666667  0.833333  0.0  0.0  0.0  20.0\n",
            "x1  0.0  1.0  0.666667  0.166667  0.0  0.0  0.0   4.0\n",
            "s2  0.0  0.0  1.333333 -0.166667  1.0  0.0  0.0   2.0\n",
            "s3  0.0  0.0  1.666667  0.166667  0.0  1.0  0.0   5.0\n",
            "s4  0.0  0.0  1.000000  0.000000  0.0  0.0  1.0   2.0\n",
            "\n",
            "Iteração: 2\n",
            "Linha do pivô: 2, Coluna do pivô: 2, Elemento pivô: 1.3333333333333335\n",
            "\n",
            "Tableu Simplex:\n",
            "      z   x1   x2     s1    s2   s3   s4   RHD\n",
            "z   1.0  0.0  0.0  0.750  0.50  0.0  0.0  21.0\n",
            "x1  0.0  1.0  0.0  0.250 -0.50  0.0  0.0   3.0\n",
            "x2  0.0  0.0  1.0 -0.125  0.75  0.0  0.0   1.5\n",
            "s3  0.0  0.0  0.0  0.375 -1.25  1.0  0.0   2.5\n",
            "s4  0.0  0.0  0.0  0.125 -0.75  0.0  1.0   0.5\n",
            "\n",
            "Nenhum dos coeficientes da linha z associados com as variáveis não básicas é negativo assim essa tabela é ótima!\n"
          ]
        }
      ]
    }
  ]
}